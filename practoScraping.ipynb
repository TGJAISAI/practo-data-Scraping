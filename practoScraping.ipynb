{
  "nbformat": 4,
  "nbformat_minor": 0,
  "metadata": {
    "colab": {
      "name": "practoScraping.ipynb",
      "provenance": [],
      "authorship_tag": "ABX9TyMSmboMDtxlwNVgu548hRic",
      "include_colab_link": true
    },
    "kernelspec": {
      "name": "python3",
      "display_name": "Python 3"
    },
    "language_info": {
      "name": "python"
    }
  },
  "cells": [
    {
      "cell_type": "markdown",
      "metadata": {
        "id": "view-in-github",
        "colab_type": "text"
      },
      "source": [
        "<a href=\"https://colab.research.google.com/github/TGJAISAI/practo-data-Scraping/blob/main/practoScraping.ipynb\" target=\"_parent\"><img src=\"https://colab.research.google.com/assets/colab-badge.svg\" alt=\"Open In Colab\"/></a>"
      ]
    },
    {
      "cell_type": "code",
      "execution_count": 1,
      "metadata": {
        "colab": {
          "base_uri": "https://localhost:8080/"
        },
        "id": "pNfGLZK7fyIz",
        "outputId": "2bd0b13a-7c49-4633-ed96-9ec772dc096a"
      },
      "outputs": [
        {
          "output_type": "stream",
          "name": "stdout",
          "text": [
            "Looking in indexes: https://pypi.org/simple, https://us-python.pkg.dev/colab-wheels/public/simple/\n",
            "Requirement already satisfied: beautifulsoup4 in /usr/local/lib/python3.7/dist-packages (4.6.3)\n"
          ]
        }
      ],
      "source": [
        "!pip install beautifulsoup4"
      ]
    },
    {
      "cell_type": "code",
      "source": [
        "!pip install bs4"
      ],
      "metadata": {
        "colab": {
          "base_uri": "https://localhost:8080/"
        },
        "id": "mxjlqk8JgeNR",
        "outputId": "0c1d4bff-29d7-4d27-e9c3-0a8b02532ae6"
      },
      "execution_count": 2,
      "outputs": [
        {
          "output_type": "stream",
          "name": "stdout",
          "text": [
            "Looking in indexes: https://pypi.org/simple, https://us-python.pkg.dev/colab-wheels/public/simple/\n",
            "Requirement already satisfied: bs4 in /usr/local/lib/python3.7/dist-packages (0.0.1)\n",
            "Requirement already satisfied: beautifulsoup4 in /usr/local/lib/python3.7/dist-packages (from bs4) (4.6.3)\n"
          ]
        }
      ]
    },
    {
      "cell_type": "code",
      "source": [
        "!pip install requests"
      ],
      "metadata": {
        "colab": {
          "base_uri": "https://localhost:8080/"
        },
        "id": "q7obw91wpg4I",
        "outputId": "be1a8c8a-2839-4930-935e-e4319e5011c0"
      },
      "execution_count": 3,
      "outputs": [
        {
          "output_type": "stream",
          "name": "stdout",
          "text": [
            "Looking in indexes: https://pypi.org/simple, https://us-python.pkg.dev/colab-wheels/public/simple/\n",
            "Requirement already satisfied: requests in /usr/local/lib/python3.7/dist-packages (2.23.0)\n",
            "Requirement already satisfied: idna<3,>=2.5 in /usr/local/lib/python3.7/dist-packages (from requests) (2.10)\n",
            "Requirement already satisfied: chardet<4,>=3.0.2 in /usr/local/lib/python3.7/dist-packages (from requests) (3.0.4)\n",
            "Requirement already satisfied: urllib3!=1.25.0,!=1.25.1,<1.26,>=1.21.1 in /usr/local/lib/python3.7/dist-packages (from requests) (1.24.3)\n",
            "Requirement already satisfied: certifi>=2017.4.17 in /usr/local/lib/python3.7/dist-packages (from requests) (2022.5.18.1)\n"
          ]
        }
      ]
    },
    {
      "cell_type": "code",
      "source": [
        "import requests\n",
        "from bs4 import BeautifulSoup "
      ],
      "metadata": {
        "id": "4CF435yssia2"
      },
      "execution_count": 4,
      "outputs": []
    },
    {
      "cell_type": "code",
      "source": [
        "name = []\n",
        "city = []\n",
        "Experience=[]\n",
        "Fess = []\n",
        "hospital_name =[]\n",
        "Review = []\n",
        "page = input(\"enter the page number:\")\n",
        "for i in range(1,int(page)+1):\n",
        "    URL = 'https://www.practo.com/search/doctors?results_type=doctor&q=%5B%7B%22word%22%3A%22general%20physician%22%2C%22autocompleted%22%3Atrue%2C%22category%22%3A%22subspeciality%22%7D%5D&city=Mumbai&page='+str(i)\n",
        "    req = requests.get(URL)\n",
        "    soup = BeautifulSoup(req.text, 'html.parser')\n",
        "    Name = soup.find_all(\"div\",{\"class\":\"u-color--primary uv2-spacer--xs-bottom\"})\n",
        "    City = soup.find_all(\"div\",{\"class\":\"u-bold u-d-inlineblock u-valign--middle\"})\n",
        "    experience = soup.find_all(\"div\",{\"class\":\"u-grey_3-text\"})\n",
        "    fess = soup.find_all(\"div\",{\"class\":\"uv2-spacer--xs-top\"})\n",
        "    HOSPTEL_NAME = soup.find_all(\"div\",{\"class\":\"u-d-inlineblock u-valign--middle\"})\n",
        "    review = soup.find_all(\"div\",{\"class\":\"uv2-spacer--md-top uv2-cushion--lg-top u-border-general-dashed-top--gray-10\"})\n",
        "    \n",
        "   \n",
        "    for i in Name:\n",
        "        name.append(i.text)\n",
        "    for i in City:\n",
        "        city.append(i.text)\n",
        "    for i in experience:\n",
        "        Experience.append(i.text)\n",
        "    for i in fess:\n",
        "        Fess.append(i.text)\n",
        "    for i in HOSPTEL_NAME:\n",
        "        hospital_name.append(i.text)\n",
        "    for i in review:\n",
        "        Review.append(i.text)\n",
        "\n",
        "\n"
      ],
      "metadata": {
        "id": "AP4oTR9tB2uS",
        "colab": {
          "base_uri": "https://localhost:8080/"
        },
        "outputId": "3a658721-c0b2-4aa8-9060-498f0b95d96f"
      },
      "execution_count": 95,
      "outputs": [
        {
          "name": "stdout",
          "output_type": "stream",
          "text": [
            "enter the page number:10\n"
          ]
        }
      ]
    },
    {
      "cell_type": "code",
      "source": [
        "import pandas as pd\n",
        "data ={\"name\" :name,\"city\":city,\"Experience\":Experience,\"Fess\":Fess,\"hospital_name\":hospital_name,\"Review\":Review}\n",
        "df = pd.DataFrame.from_dict(data, orient='index')\n",
        "df = df.transpose()\n",
        "print(df)"
      ],
      "metadata": {
        "colab": {
          "base_uri": "https://localhost:8080/"
        },
        "id": "MZCxEoAc30mA",
        "outputId": "c1cca0de-a07f-4fdb-e7b1-ff07dc0b9c00"
      },
      "execution_count": 96,
      "outputs": [
        {
          "output_type": "stream",
          "name": "stdout",
          "text": [
            "                      name                   city  \\\n",
            "0         Dr. Naresh Mehta     Mulund West,Mumbai   \n",
            "1      Dr. Rajanshu Tiwari         Chembur,Mumbai   \n",
            "2    Dr. Shubhashree Patil    Andheri East,Mumbai   \n",
            "3       Dr. Akshaya Shetty    Andheri East,Mumbai   \n",
            "4     Dr. Seema S. Masrani  Kandivali West,Mumbai   \n",
            "..                     ...                    ...   \n",
            "209                   None                   None   \n",
            "210                   None                   None   \n",
            "211                   None                   None   \n",
            "212                   None                   None   \n",
            "213                   None                   None   \n",
            "\n",
            "                                       Experience  \\\n",
            "0                         Fed up of endless wait?   \n",
            "1    General Physician35 years experience overall   \n",
            "2    General Physician12 years experience overall   \n",
            "3    General Physician17 years experience overall   \n",
            "4    General Physician10 years experience overall   \n",
            "..                                            ...   \n",
            "209                                          None   \n",
            "210                                          None   \n",
            "211                                          None   \n",
            "212                                          None   \n",
            "213                                          None   \n",
            "\n",
            "                                                  Fess  \\\n",
            "0                          35 years experience overall   \n",
            "1                     ₹1500 Consultation fee at clinic   \n",
            "2                          12 years experience overall   \n",
            "3                      ₹800 Consultation fee at clinic   \n",
            "4                          17 years experience overall   \n",
            "..                                                 ...   \n",
            "209                         2 years experience overall   \n",
            "210                   ₹1200 Consultation fee at clinic   \n",
            "211                        10 years experience overall   \n",
            "212                    ₹700 Consultation fee at clinic   \n",
            "213  You are seeing results from Mumbai. See result...   \n",
            "\n",
            "                     hospital_name                   Review  \n",
            "0         Fortis Hospital + 1 more    92% 7 Patient Stories  \n",
            "1              Dr. Tiwari's Clinic   97% 53 Patient Stories  \n",
            "2     Diabetes And Wellness Clinic  99% 207 Patient Stories  \n",
            "3    Shetty's Care Clinic + 1 more  100% 14 Patient Stories  \n",
            "4    Dr. Seema S. Masrani's Clinic    75% 3 Patient Stories  \n",
            "..                             ...                      ...  \n",
            "209                           None                     None  \n",
            "210                           None                     None  \n",
            "211                           None                     None  \n",
            "212                           None                     None  \n",
            "213                           None                     None  \n",
            "\n",
            "[214 rows x 6 columns]\n"
          ]
        }
      ]
    },
    {
      "cell_type": "code",
      "source": [
        "df.head()"
      ],
      "metadata": {
        "colab": {
          "base_uri": "https://localhost:8080/",
          "height": 337
        },
        "id": "zwDDBtSrLFPI",
        "outputId": "61bd7383-3bef-4534-d988-471729cbf25b"
      },
      "execution_count": 97,
      "outputs": [
        {
          "output_type": "execute_result",
          "data": {
            "text/plain": [
              "                    name                   city  \\\n",
              "0       Dr. Naresh Mehta     Mulund West,Mumbai   \n",
              "1    Dr. Rajanshu Tiwari         Chembur,Mumbai   \n",
              "2  Dr. Shubhashree Patil    Andheri East,Mumbai   \n",
              "3     Dr. Akshaya Shetty    Andheri East,Mumbai   \n",
              "4   Dr. Seema S. Masrani  Kandivali West,Mumbai   \n",
              "\n",
              "                                     Experience  \\\n",
              "0                       Fed up of endless wait?   \n",
              "1  General Physician35 years experience overall   \n",
              "2  General Physician12 years experience overall   \n",
              "3  General Physician17 years experience overall   \n",
              "4  General Physician10 years experience overall   \n",
              "\n",
              "                               Fess                  hospital_name  \\\n",
              "0       35 years experience overall       Fortis Hospital + 1 more   \n",
              "1  ₹1500 Consultation fee at clinic            Dr. Tiwari's Clinic   \n",
              "2       12 years experience overall   Diabetes And Wellness Clinic   \n",
              "3   ₹800 Consultation fee at clinic  Shetty's Care Clinic + 1 more   \n",
              "4       17 years experience overall  Dr. Seema S. Masrani's Clinic   \n",
              "\n",
              "                    Review  \n",
              "0    92% 7 Patient Stories  \n",
              "1   97% 53 Patient Stories  \n",
              "2  99% 207 Patient Stories  \n",
              "3  100% 14 Patient Stories  \n",
              "4    75% 3 Patient Stories  "
            ],
            "text/html": [
              "\n",
              "  <div id=\"df-29880d29-d027-49af-8976-a1ab814bd3c5\">\n",
              "    <div class=\"colab-df-container\">\n",
              "      <div>\n",
              "<style scoped>\n",
              "    .dataframe tbody tr th:only-of-type {\n",
              "        vertical-align: middle;\n",
              "    }\n",
              "\n",
              "    .dataframe tbody tr th {\n",
              "        vertical-align: top;\n",
              "    }\n",
              "\n",
              "    .dataframe thead th {\n",
              "        text-align: right;\n",
              "    }\n",
              "</style>\n",
              "<table border=\"1\" class=\"dataframe\">\n",
              "  <thead>\n",
              "    <tr style=\"text-align: right;\">\n",
              "      <th></th>\n",
              "      <th>name</th>\n",
              "      <th>city</th>\n",
              "      <th>Experience</th>\n",
              "      <th>Fess</th>\n",
              "      <th>hospital_name</th>\n",
              "      <th>Review</th>\n",
              "    </tr>\n",
              "  </thead>\n",
              "  <tbody>\n",
              "    <tr>\n",
              "      <th>0</th>\n",
              "      <td>Dr. Naresh Mehta</td>\n",
              "      <td>Mulund West,Mumbai</td>\n",
              "      <td>Fed up of endless wait?</td>\n",
              "      <td>35 years experience overall</td>\n",
              "      <td>Fortis Hospital + 1 more</td>\n",
              "      <td>92% 7 Patient Stories</td>\n",
              "    </tr>\n",
              "    <tr>\n",
              "      <th>1</th>\n",
              "      <td>Dr. Rajanshu Tiwari</td>\n",
              "      <td>Chembur,Mumbai</td>\n",
              "      <td>General Physician35 years experience overall</td>\n",
              "      <td>₹1500 Consultation fee at clinic</td>\n",
              "      <td>Dr. Tiwari's Clinic</td>\n",
              "      <td>97% 53 Patient Stories</td>\n",
              "    </tr>\n",
              "    <tr>\n",
              "      <th>2</th>\n",
              "      <td>Dr. Shubhashree Patil</td>\n",
              "      <td>Andheri East,Mumbai</td>\n",
              "      <td>General Physician12 years experience overall</td>\n",
              "      <td>12 years experience overall</td>\n",
              "      <td>Diabetes And Wellness Clinic</td>\n",
              "      <td>99% 207 Patient Stories</td>\n",
              "    </tr>\n",
              "    <tr>\n",
              "      <th>3</th>\n",
              "      <td>Dr. Akshaya Shetty</td>\n",
              "      <td>Andheri East,Mumbai</td>\n",
              "      <td>General Physician17 years experience overall</td>\n",
              "      <td>₹800 Consultation fee at clinic</td>\n",
              "      <td>Shetty's Care Clinic + 1 more</td>\n",
              "      <td>100% 14 Patient Stories</td>\n",
              "    </tr>\n",
              "    <tr>\n",
              "      <th>4</th>\n",
              "      <td>Dr. Seema S. Masrani</td>\n",
              "      <td>Kandivali West,Mumbai</td>\n",
              "      <td>General Physician10 years experience overall</td>\n",
              "      <td>17 years experience overall</td>\n",
              "      <td>Dr. Seema S. Masrani's Clinic</td>\n",
              "      <td>75% 3 Patient Stories</td>\n",
              "    </tr>\n",
              "  </tbody>\n",
              "</table>\n",
              "</div>\n",
              "      <button class=\"colab-df-convert\" onclick=\"convertToInteractive('df-29880d29-d027-49af-8976-a1ab814bd3c5')\"\n",
              "              title=\"Convert this dataframe to an interactive table.\"\n",
              "              style=\"display:none;\">\n",
              "        \n",
              "  <svg xmlns=\"http://www.w3.org/2000/svg\" height=\"24px\"viewBox=\"0 0 24 24\"\n",
              "       width=\"24px\">\n",
              "    <path d=\"M0 0h24v24H0V0z\" fill=\"none\"/>\n",
              "    <path d=\"M18.56 5.44l.94 2.06.94-2.06 2.06-.94-2.06-.94-.94-2.06-.94 2.06-2.06.94zm-11 1L8.5 8.5l.94-2.06 2.06-.94-2.06-.94L8.5 2.5l-.94 2.06-2.06.94zm10 10l.94 2.06.94-2.06 2.06-.94-2.06-.94-.94-2.06-.94 2.06-2.06.94z\"/><path d=\"M17.41 7.96l-1.37-1.37c-.4-.4-.92-.59-1.43-.59-.52 0-1.04.2-1.43.59L10.3 9.45l-7.72 7.72c-.78.78-.78 2.05 0 2.83L4 21.41c.39.39.9.59 1.41.59.51 0 1.02-.2 1.41-.59l7.78-7.78 2.81-2.81c.8-.78.8-2.07 0-2.86zM5.41 20L4 18.59l7.72-7.72 1.47 1.35L5.41 20z\"/>\n",
              "  </svg>\n",
              "      </button>\n",
              "      \n",
              "  <style>\n",
              "    .colab-df-container {\n",
              "      display:flex;\n",
              "      flex-wrap:wrap;\n",
              "      gap: 12px;\n",
              "    }\n",
              "\n",
              "    .colab-df-convert {\n",
              "      background-color: #E8F0FE;\n",
              "      border: none;\n",
              "      border-radius: 50%;\n",
              "      cursor: pointer;\n",
              "      display: none;\n",
              "      fill: #1967D2;\n",
              "      height: 32px;\n",
              "      padding: 0 0 0 0;\n",
              "      width: 32px;\n",
              "    }\n",
              "\n",
              "    .colab-df-convert:hover {\n",
              "      background-color: #E2EBFA;\n",
              "      box-shadow: 0px 1px 2px rgba(60, 64, 67, 0.3), 0px 1px 3px 1px rgba(60, 64, 67, 0.15);\n",
              "      fill: #174EA6;\n",
              "    }\n",
              "\n",
              "    [theme=dark] .colab-df-convert {\n",
              "      background-color: #3B4455;\n",
              "      fill: #D2E3FC;\n",
              "    }\n",
              "\n",
              "    [theme=dark] .colab-df-convert:hover {\n",
              "      background-color: #434B5C;\n",
              "      box-shadow: 0px 1px 3px 1px rgba(0, 0, 0, 0.15);\n",
              "      filter: drop-shadow(0px 1px 2px rgba(0, 0, 0, 0.3));\n",
              "      fill: #FFFFFF;\n",
              "    }\n",
              "  </style>\n",
              "\n",
              "      <script>\n",
              "        const buttonEl =\n",
              "          document.querySelector('#df-29880d29-d027-49af-8976-a1ab814bd3c5 button.colab-df-convert');\n",
              "        buttonEl.style.display =\n",
              "          google.colab.kernel.accessAllowed ? 'block' : 'none';\n",
              "\n",
              "        async function convertToInteractive(key) {\n",
              "          const element = document.querySelector('#df-29880d29-d027-49af-8976-a1ab814bd3c5');\n",
              "          const dataTable =\n",
              "            await google.colab.kernel.invokeFunction('convertToInteractive',\n",
              "                                                     [key], {});\n",
              "          if (!dataTable) return;\n",
              "\n",
              "          const docLinkHtml = 'Like what you see? Visit the ' +\n",
              "            '<a target=\"_blank\" href=https://colab.research.google.com/notebooks/data_table.ipynb>data table notebook</a>'\n",
              "            + ' to learn more about interactive tables.';\n",
              "          element.innerHTML = '';\n",
              "          dataTable['output_type'] = 'display_data';\n",
              "          await google.colab.output.renderOutput(dataTable, element);\n",
              "          const docLink = document.createElement('div');\n",
              "          docLink.innerHTML = docLinkHtml;\n",
              "          element.appendChild(docLink);\n",
              "        }\n",
              "      </script>\n",
              "    </div>\n",
              "  </div>\n",
              "  "
            ]
          },
          "metadata": {},
          "execution_count": 97
        }
      ]
    },
    {
      "cell_type": "code",
      "source": [
        "df.shape"
      ],
      "metadata": {
        "colab": {
          "base_uri": "https://localhost:8080/"
        },
        "id": "hS4s6ILQPHQe",
        "outputId": "9616c71b-863b-44a6-86fd-bd455441e85b"
      },
      "execution_count": 98,
      "outputs": [
        {
          "output_type": "execute_result",
          "data": {
            "text/plain": [
              "(214, 6)"
            ]
          },
          "metadata": {},
          "execution_count": 98
        }
      ]
    },
    {
      "cell_type": "markdown",
      "source": [
        ""
      ],
      "metadata": {
        "id": "TZtycTDbPGwb"
      }
    },
    {
      "cell_type": "code",
      "source": [
        "df.to_csv(\"practo.csv\")"
      ],
      "metadata": {
        "id": "WcBmFnPA-BT1"
      },
      "execution_count": 99,
      "outputs": []
    }
  ]
}